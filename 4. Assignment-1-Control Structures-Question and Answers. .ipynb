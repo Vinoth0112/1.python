{
 "cells": [
  {
   "cell_type": "code",
   "execution_count": 1,
   "id": "863e77cf",
   "metadata": {},
   "outputs": [
    {
     "name": "stdout",
     "output_type": "stream",
     "text": [
      "Welcome to Assignment-1\n"
     ]
    }
   ],
   "source": [
    "print(\"Welcome to Assignment-1\")"
   ]
  },
  {
   "cell_type": "code",
   "execution_count": 15,
   "id": "50161b2c",
   "metadata": {},
   "outputs": [
    {
     "name": "stdout",
     "output_type": "stream",
     "text": [
      "Num1 = 10\n",
      "Num2 = 30\n",
      "Add = 40\n"
     ]
    }
   ],
   "source": [
    "Num1=10\n",
    "Num2=30\n",
    "Add=Num1+Num2\n",
    "print(\"Num1 =\",Num1)\n",
    "print(\"Num2 =\",Num2)\n",
    "print(\"Add =\",Add)"
   ]
  },
  {
   "cell_type": "code",
   "execution_count": null,
   "id": "44757f98",
   "metadata": {},
   "outputs": [],
   "source": [
    "#Body Mass Index"
   ]
  },
  {
   "cell_type": "code",
   "execution_count": 17,
   "id": "92f40817",
   "metadata": {},
   "outputs": [
    {
     "name": "stdout",
     "output_type": "stream",
     "text": [
      "Enter the BMI Index:34\n",
      "Very Overweight\n"
     ]
    }
   ],
   "source": [
    "BMT=int(input(\"Enter the BMI Index:\"))\n",
    "if(BMT<29):\n",
    "    print(\"Normal Weight\")\n",
    "else:\n",
    "    print(\"Very Overweight\")"
   ]
  },
  {
   "cell_type": "code",
   "execution_count": 18,
   "id": "ebf51038",
   "metadata": {},
   "outputs": [
    {
     "name": "stdout",
     "output_type": "stream",
     "text": [
      "Enter the BMI Index: 22\n",
      "Normal Weight\n"
     ]
    }
   ],
   "source": [
    "BMT=int(input(\"Enter the BMI Index: \"))\n",
    "if(BMT<18.5):\n",
    "    print(\"Under Weight\")\n",
    "elif(BMT<24):\n",
    "    print(\"Normal Weight\")\n",
    "elif(BMT<29):\n",
    "    print(\"Over Weight\")\n",
    "else:\n",
    "    print(\"Very Overweight\")\n",
    "    "
   ]
  },
  {
   "cell_type": "code",
   "execution_count": null,
   "id": "5443d3fc",
   "metadata": {},
   "outputs": [],
   "source": []
  }
 ],
 "metadata": {
  "kernelspec": {
   "display_name": "Python 3 (ipykernel)",
   "language": "python",
   "name": "python3"
  },
  "language_info": {
   "codemirror_mode": {
    "name": "ipython",
    "version": 3
   },
   "file_extension": ".py",
   "mimetype": "text/x-python",
   "name": "python",
   "nbconvert_exporter": "python",
   "pygments_lexer": "ipython3",
   "version": "3.11.5"
  }
 },
 "nbformat": 4,
 "nbformat_minor": 5
}
