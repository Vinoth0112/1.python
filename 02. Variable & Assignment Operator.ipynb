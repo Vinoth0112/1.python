{
 "cells": [
  {
   "cell_type": "code",
   "execution_count": 3,
   "id": "4ad0b35f",
   "metadata": {},
   "outputs": [
    {
     "name": "stdout",
     "output_type": "stream",
     "text": [
      "Addition\n"
     ]
    }
   ],
   "source": [
    "Num1=40\n",
    "Num2=20\n",
    "Addition=Num1+Num2\n",
    "Substraction=Num1-Num2\n",
    "Division=Num1+Num2\n",
    "Multiplication = Num1*Num2\n",
    "print(\"Addition\")"
   ]
  },
  {
   "cell_type": "code",
   "execution_count": null,
   "id": "9d7a8ae9",
   "metadata": {},
   "outputs": [],
   "source": []
  },
  {
   "cell_type": "code",
   "execution_count": 8,
   "id": "52e1c2a9",
   "metadata": {},
   "outputs": [
    {
     "name": "stdout",
     "output_type": "stream",
     "text": [
      "Addition =  60\n"
     ]
    }
   ],
   "source": [
    "Num1=40\n",
    "Num2=20\n",
    "Addition=Num1+Num2\n",
    "Substraction=Num1-Num2\n",
    "Division=Num1+Num2\n",
    "Multiplication = Num1*Num2\n",
    "print(\"Addition = \", Addition)"
   ]
  },
  {
   "cell_type": "code",
   "execution_count": null,
   "id": "ba8916ab",
   "metadata": {},
   "outputs": [],
   "source": []
  },
  {
   "cell_type": "code",
   "execution_count": 11,
   "id": "1b7fcde3",
   "metadata": {},
   "outputs": [
    {
     "name": "stdout",
     "output_type": "stream",
     "text": [
      "Addition =  60\n",
      "Subtraction = 20\n",
      "Division = 60\n",
      "Multipication = 800\n"
     ]
    }
   ],
   "source": [
    "Num1=40\n",
    "Num2=20\n",
    "Addition=Num1+Num2\n",
    "Subtraction=Num1-Num2\n",
    "Division=Num1+Num2\n",
    "Multiplication = Num1*Num2\n",
    "print(\"Addition = \", Addition)\n",
    "print(\"Subtraction =\", Subtraction)\n",
    "print(\"Division =\", Division)\n",
    "print(\"Multipication =\", Multiplication)"
   ]
  },
  {
   "cell_type": "code",
   "execution_count": 12,
   "id": "99921c4e",
   "metadata": {},
   "outputs": [
    {
     "name": "stdout",
     "output_type": "stream",
     "text": [
      "Addition =  60\n",
      "Substraction = 20\n",
      "Division = 2.0\n",
      "Multipication = 800\n"
     ]
    }
   ],
   "source": [
    "Num1=40\n",
    "Num2=20\n",
    "Addition=Num1+Num2\n",
    "Aubtraction=Num1-Num2\n",
    "Division=Num1/Num2\n",
    "Multiplication = Num1*Num2\n",
    "print(\"Addition = \", Addition)\n",
    "print(\"Substraction =\", Subtraction)\n",
    "print(\"Division =\", Division)\n",
    "print(\"Multipication =\", Multiplication)"
   ]
  },
  {
   "cell_type": "code",
   "execution_count": 18,
   "id": "a2ce5608",
   "metadata": {},
   "outputs": [
    {
     "name": "stdout",
     "output_type": "stream",
     "text": [
      "Enter the number:45\n"
     ]
    }
   ],
   "source": [
    "Num1=input('Enter the number:')"
   ]
  },
  {
   "cell_type": "code",
   "execution_count": null,
   "id": "c0799cbb",
   "metadata": {},
   "outputs": [],
   "source": []
  },
  {
   "cell_type": "code",
   "execution_count": 19,
   "id": "b2648381",
   "metadata": {},
   "outputs": [
    {
     "name": "stdout",
     "output_type": "stream",
     "text": [
      "Enter the number:65\n"
     ]
    }
   ],
   "source": [
    "Num2=input('Enter the number:')"
   ]
  },
  {
   "cell_type": "code",
   "execution_count": null,
   "id": "4004cb0f",
   "metadata": {},
   "outputs": [],
   "source": []
  },
  {
   "cell_type": "code",
   "execution_count": 21,
   "id": "45998233",
   "metadata": {},
   "outputs": [
    {
     "name": "stdout",
     "output_type": "stream",
     "text": [
      "60\n"
     ]
    }
   ],
   "source": [
    "print(Addition)"
   ]
  },
  {
   "cell_type": "code",
   "execution_count": 22,
   "id": "cf836259",
   "metadata": {},
   "outputs": [],
   "source": [
    "add=Num1+Num2"
   ]
  },
  {
   "cell_type": "code",
   "execution_count": 23,
   "id": "d22caacb",
   "metadata": {},
   "outputs": [
    {
     "name": "stdout",
     "output_type": "stream",
     "text": [
      "60\n"
     ]
    }
   ],
   "source": [
    "print(Addition)"
   ]
  },
  {
   "cell_type": "code",
   "execution_count": null,
   "id": "35bf7d24",
   "metadata": {},
   "outputs": [],
   "source": []
  },
  {
   "cell_type": "code",
   "execution_count": 25,
   "id": "559cb002",
   "metadata": {},
   "outputs": [
    {
     "name": "stdout",
     "output_type": "stream",
     "text": [
      "4565\n"
     ]
    }
   ],
   "source": [
    "print(add)"
   ]
  },
  {
   "cell_type": "code",
   "execution_count": null,
   "id": "08bf5a93",
   "metadata": {},
   "outputs": [],
   "source": [
    "\n"
   ]
  },
  {
   "cell_type": "code",
   "execution_count": 5,
   "id": "e0e32446",
   "metadata": {},
   "outputs": [
    {
     "name": "stdout",
     "output_type": "stream",
     "text": [
      "Enter the number:2\n",
      "Enter the number:3\n",
      "23\n"
     ]
    }
   ],
   "source": [
    "Num1=input('Enter the number:')\n",
    "Num2=input('Enter the number:')\n",
    "add=Num1+Num2\n",
    "print(add)"
   ]
  },
  {
   "cell_type": "code",
   "execution_count": 7,
   "id": "b2c46be0",
   "metadata": {},
   "outputs": [
    {
     "name": "stdout",
     "output_type": "stream",
     "text": [
      "Enter the number:3\n",
      "Enter the number:3\n",
      "6\n"
     ]
    }
   ],
   "source": [
    "Num1=int(input('Enter the number:'))\n",
    "Num2=int(input('Enter the number:'))\n",
    "add=Num1+Num2\n",
    "print(add)"
   ]
  },
  {
   "cell_type": "code",
   "execution_count": 9,
   "id": "81bf7b51",
   "metadata": {},
   "outputs": [
    {
     "name": "stdout",
     "output_type": "stream",
     "text": [
      "Enter the number:3\n",
      "Enter the number:3\n",
      "add = 6\n"
     ]
    }
   ],
   "source": [
    "Num1=int(input('Enter the number:'))\n",
    "Num2=int(input('Enter the number:'))\n",
    "add=Num1+Num2\n",
    "print(\"add =\",add)"
   ]
  },
  {
   "cell_type": "code",
   "execution_count": 10,
   "id": "5bf444d3",
   "metadata": {},
   "outputs": [
    {
     "name": "stdout",
     "output_type": "stream",
     "text": [
      "Enter the number:5\n",
      "Enter the number:5\n",
      "add = 10\n"
     ]
    }
   ],
   "source": [
    "Num1=int(input('Enter the number:'))\n",
    "Num2=int(input('Enter the number:'))\n",
    "add=Num1+Num2\n",
    "print(\"add =\",add)"
   ]
  },
  {
   "cell_type": "code",
   "execution_count": 33,
   "id": "ff04ae5f",
   "metadata": {},
   "outputs": [
    {
     "name": "stdout",
     "output_type": "stream",
     "text": [
      "Enter the number:50\n",
      "Enter the number:50\n",
      "add = 100\n"
     ]
    }
   ],
   "source": [
    "Num1=int(input('Enter the number:'))\n",
    "Num2=int(input('Enter the number:'))\n",
    "add=Num1+Num2\n",
    "print(\"add =\",add)"
   ]
  },
  {
   "cell_type": "code",
   "execution_count": 35,
   "id": "198945d4",
   "metadata": {},
   "outputs": [
    {
     "name": "stdout",
     "output_type": "stream",
     "text": [
      "Enter the number:4\n",
      "Enter the number:2\n",
      "add = 6\n",
      "sum = 2\n",
      "div = 2.0\n",
      "mul = 8\n"
     ]
    }
   ],
   "source": [
    "Num1=int(input('Enter the number:'))\n",
    "Num2=int(input('Enter the number:'))\n",
    "add=Num1+Num2\n",
    "sub=Num1-Num2\n",
    "div=Num1/Num2\n",
    "mul=Num1*Num2\n",
    "print(\"add =\",add)\n",
    "print(\"sum =\",sub)\n",
    "print(\"div =\",div)\n",
    "print(\"mul =\",mul)"
   ]
  },
  {
   "cell_type": "code",
   "execution_count": 37,
   "id": "7bb5705c",
   "metadata": {},
   "outputs": [
    {
     "name": "stdout",
     "output_type": "stream",
     "text": [
      "Enter the number:10\n"
     ]
    }
   ],
   "source": [
    "Num1=int(input(\"Enter the number:\"))\n",
    "               "
   ]
  },
  {
   "cell_type": "code",
   "execution_count": null,
   "id": "c9e8c739",
   "metadata": {},
   "outputs": [],
   "source": []
  }
 ],
 "metadata": {
  "kernelspec": {
   "display_name": "Python 3 (ipykernel)",
   "language": "python",
   "name": "python3"
  },
  "language_info": {
   "codemirror_mode": {
    "name": "ipython",
    "version": 3
   },
   "file_extension": ".py",
   "mimetype": "text/x-python",
   "name": "python",
   "nbconvert_exporter": "python",
   "pygments_lexer": "ipython3",
   "version": "3.11.5"
  }
 },
 "nbformat": 4,
 "nbformat_minor": 5
}
