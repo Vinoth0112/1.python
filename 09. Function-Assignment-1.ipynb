{
 "cells": [
  {
   "cell_type": "code",
   "execution_count": 1,
   "id": "f07e4cae",
   "metadata": {},
   "outputs": [],
   "source": [
    "# Create a class and function, and list out the items in the list\n",
    "    "
   ]
  },
  {
   "cell_type": "code",
   "execution_count": 1,
   "id": "97c2f727",
   "metadata": {},
   "outputs": [],
   "source": [
    "def SubfieldsInAI():\n",
    "    List=[\"Sub-fields in AI are:\", \"Machine Learning\",\" Neural Networks\", \"Vision,Robotics\", \"Speech Processing\", \"Natural Language Processing\"]\n",
    "    for AI in List:\n",
    "        print(AI)\n",
    "    message=\"AI\"\n",
    "    return message"
   ]
  },
  {
   "cell_type": "code",
   "execution_count": 16,
   "id": "d79d7cbe",
   "metadata": {},
   "outputs": [
    {
     "name": "stdout",
     "output_type": "stream",
     "text": [
      "Sub-fields in AI are:\n",
      "Machine Learning\n",
      " Neural Networks\n",
      "Vision,Robotics\n",
      "Speech Processing\n",
      "Natural Language Processing\n"
     ]
    },
    {
     "data": {
      "text/plain": [
       "'AI'"
      ]
     },
     "execution_count": 16,
     "metadata": {},
     "output_type": "execute_result"
    }
   ],
   "source": [
    "message=SubfieldsInAI()\n"
   ]
  },
  {
   "cell_type": "code",
   "execution_count": null,
   "id": "035a9c58",
   "metadata": {},
   "outputs": [],
   "source": [
    "# Create a function that checks whether the given number is Odd or Even"
   ]
  },
  {
   "cell_type": "code",
   "execution_count": 57,
   "id": "58a5d60f",
   "metadata": {},
   "outputs": [],
   "source": [
    "def OddEven():\n",
    "    num=int(input(\"Enter a number: \"))\n",
    "    if((num%2)==0):\n",
    "        print(num,\"is Even Number\")\n",
    "        message=\"is Even Number\"\n",
    "    else:\n",
    "        print(num,\"is Odd Number\")\n",
    "        message=\"is Odd number\"\n",
    "    return message"
   ]
  },
  {
   "cell_type": "code",
   "execution_count": 59,
   "id": "f57250a7",
   "metadata": {},
   "outputs": [
    {
     "name": "stdout",
     "output_type": "stream",
     "text": [
      "Enter a number: 52452\n",
      "52452 is Even Number\n"
     ]
    }
   ],
   "source": [
    "message=OddEven()"
   ]
  },
  {
   "cell_type": "code",
   "execution_count": null,
   "id": "daa9475f",
   "metadata": {},
   "outputs": [],
   "source": [
    "# Create a function that tells elegibility of marriage for male and female according to their - \n",
    "#-age limit like 21 for male and 18 for female"
   ]
  },
  {
   "cell_type": "code",
   "execution_count": 129,
   "id": "897d4902",
   "metadata": {},
   "outputs": [],
   "source": [
    "def ElegiblityForMarriage():\n",
    "    Gender=input(\"Your Gender:\")\n",
    "    Age=int(input(\"Your Age:\"))\n",
    "    if((Gender=='Male') and (Age>20)):\n",
    "        print(\"ELIGIBLE\")\n",
    "        message=\"ELIGIBLE\"\n",
    "    elif((Gender=='Female') and (Age>17)):\n",
    "        print(\"ELIGIBLE\")\n",
    "        message=\"ELIGIBLE\"\n",
    "    \n",
    "    else:\n",
    "        print(\"NOT ELIGIBLE\")\n",
    "        message=\"NOT ELIGIBLE\"\n",
    "        return message"
   ]
  },
  {
   "cell_type": "code",
   "execution_count": 133,
   "id": "2babf3e4",
   "metadata": {},
   "outputs": [
    {
     "name": "stdout",
     "output_type": "stream",
     "text": [
      "Your Gender:Male\n",
      "Your Age:20\n",
      "NOT ELIGIBLE\n"
     ]
    }
   ],
   "source": [
    "message=ElegiblityForMarriage()"
   ]
  },
  {
   "cell_type": "code",
   "execution_count": 134,
   "id": "386cc4e3",
   "metadata": {},
   "outputs": [],
   "source": [
    "# calculate the percentage of your 10th mark"
   ]
  },
  {
   "cell_type": "code",
   "execution_count": 161,
   "id": "9b463282",
   "metadata": {},
   "outputs": [],
   "source": [
    "def percentage():\n",
    "    Subject1=int(input(\"Subject1= \"))\n",
    "    Subject2=int(input(\"Subject2= \"))\n",
    "    Subject3=int(input(\"Subject3= \"))\n",
    "    Subject4=int(input(\"Subject4= \"))\n",
    "    Subject5=int(input(\"Subject5= \"))\n",
    "\n",
    "    Total=Subject1+Subject2+Subject3+Subject4+Subject5\n",
    "    print(\"Total:\",Total)\n",
    "    percentage=(Total)*(100/500) \n",
    "\n",
    "    print (\"Percentage is: \",percentage)\n",
    "    message=\"Percentage is\",percentage\n",
    "\n",
    "    return message\n",
    "\n"
   ]
  },
  {
   "cell_type": "code",
   "execution_count": 164,
   "id": "fe8e2892",
   "metadata": {},
   "outputs": [
    {
     "name": "stdout",
     "output_type": "stream",
     "text": [
      "Subject1= 98\n",
      "Subject2= 87\n",
      "Subject3= 95\n",
      "Subject4= 95\n",
      "Subject5= 93\n",
      "Total: 468\n",
      "Percentage is:  93.60000000000001\n"
     ]
    }
   ],
   "source": [
    "message=percentage()"
   ]
  },
  {
   "cell_type": "code",
   "execution_count": null,
   "id": "533c44c0",
   "metadata": {},
   "outputs": [],
   "source": [
    "#print area and perimeter of triangle using class and functions"
   ]
  },
  {
   "cell_type": "code",
   "execution_count": 37,
   "id": "2373e676",
   "metadata": {},
   "outputs": [],
   "source": [
    "def triangle():\n",
    "    Height=int(input(\"Height:\"))\n",
    "    Breadth=int(input(\"Breadth:\"))\n",
    "    Area_of_triangle=(Height*Breadth)/2\n",
    "    print(\"Area of Triangle\",Area_of_triangle)\n",
    "    Height1=int(input(\"Height1:\"))\n",
    "    Height2=int(input(\"Height2:\"))\n",
    "    Breadth=int(input(\"Breadth:\"))\n",
    "    Perimeter_of_Triangle=(Height1+Height2+Breadth)\n",
    "    print(\"Perimeter of Triangle: \",Perimeter_of_Triangle)\n",
    "    message=Perimeter_of_Triangle\n",
    "    return message"
   ]
  },
  {
   "cell_type": "code",
   "execution_count": 38,
   "id": "ffb1aa5c",
   "metadata": {},
   "outputs": [
    {
     "name": "stdout",
     "output_type": "stream",
     "text": [
      "Height:32\n",
      "Breadth:34\n",
      "Area of Triangle 544.0\n",
      "Height1:2\n",
      "Height2:4\n",
      "Breadth:4\n",
      "Perimeter of Triangle:  10\n"
     ]
    }
   ],
   "source": [
    "message=triangle()"
   ]
  },
  {
   "cell_type": "code",
   "execution_count": 39,
   "id": "2821f6a3",
   "metadata": {},
   "outputs": [
    {
     "data": {
      "text/plain": [
       "10"
      ]
     },
     "execution_count": 39,
     "metadata": {},
     "output_type": "execute_result"
    }
   ],
   "source": [
    "message"
   ]
  },
  {
   "cell_type": "code",
   "execution_count": null,
   "id": "b3072730",
   "metadata": {},
   "outputs": [],
   "source": []
  }
 ],
 "metadata": {
  "kernelspec": {
   "display_name": "Python 3 (ipykernel)",
   "language": "python",
   "name": "python3"
  },
  "language_info": {
   "codemirror_mode": {
    "name": "ipython",
    "version": 3
   },
   "file_extension": ".py",
   "mimetype": "text/x-python",
   "name": "python",
   "nbconvert_exporter": "python",
   "pygments_lexer": "ipython3",
   "version": "3.11.5"
  }
 },
 "nbformat": 4,
 "nbformat_minor": 5
}
