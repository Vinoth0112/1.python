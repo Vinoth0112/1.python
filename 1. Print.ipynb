{
 "cells": [
  {
   "cell_type": "code",
   "execution_count": 1,
   "id": "e26d8694",
   "metadata": {},
   "outputs": [
    {
     "name": "stdout",
     "output_type": "stream",
     "text": [
      "Welcome to AI Learning\n"
     ]
    }
   ],
   "source": [
    "print(\"Welcome to AI Learning\")"
   ]
  },
  {
   "cell_type": "code",
   "execution_count": null,
   "id": "14e630fb",
   "metadata": {},
   "outputs": [],
   "source": []
  },
  {
   "cell_type": "code",
   "execution_count": 3,
   "id": "bc1e1010",
   "metadata": {},
   "outputs": [
    {
     "name": "stdout",
     "output_type": "stream",
     "text": [
      "vino\n"
     ]
    }
   ],
   "source": [
    "print('vino')"
   ]
  },
  {
   "cell_type": "code",
   "execution_count": 4,
   "id": "a6524f94",
   "metadata": {},
   "outputs": [
    {
     "name": "stdout",
     "output_type": "stream",
     "text": [
      "Welcome to AI Learning\n"
     ]
    }
   ],
   "source": [
    "print('Welcome to AI Learning')"
   ]
  },
  {
   "cell_type": "code",
   "execution_count": null,
   "id": "4cc359c1",
   "metadata": {},
   "outputs": [],
   "source": []
  },
  {
   "cell_type": "code",
   "execution_count": 6,
   "id": "dfb3067b",
   "metadata": {},
   "outputs": [
    {
     "name": "stdout",
     "output_type": "stream",
     "text": [
      "Welcome to AI Learning\n"
     ]
    }
   ],
   "source": [
    "print(\"Welcome to AI Learning\");"
   ]
  },
  {
   "cell_type": "code",
   "execution_count": 1,
   "id": "40b30f63",
   "metadata": {},
   "outputs": [
    {
     "name": "stdout",
     "output_type": "stream",
     "text": [
      "Welcome to AI Learning\n"
     ]
    }
   ],
   "source": [
    "print(\"Welcome to AI Learning\")"
   ]
  },
  {
   "cell_type": "code",
   "execution_count": 8,
   "id": "5241de4c",
   "metadata": {},
   "outputs": [
    {
     "name": "stdout",
     "output_type": "stream",
     "text": [
      "Welcome to AI Learning\n"
     ]
    }
   ],
   "source": [
    "print(\"Welcome to AI Learning\");"
   ]
  },
  {
   "cell_type": "code",
   "execution_count": null,
   "id": "ad468956",
   "metadata": {},
   "outputs": [],
   "source": []
  },
  {
   "cell_type": "code",
   "execution_count": 10,
   "id": "92f15a1b",
   "metadata": {},
   "outputs": [
    {
     "name": "stdout",
     "output_type": "stream",
     "text": [
      "Welcome to AI Learning\n"
     ]
    }
   ],
   "source": [
    "print(\"Welcome\"\" to AI Learning\")"
   ]
  },
  {
   "cell_type": "code",
   "execution_count": null,
   "id": "7d7910a0",
   "metadata": {},
   "outputs": [],
   "source": []
  },
  {
   "cell_type": "code",
   "execution_count": 12,
   "id": "b5997e7c",
   "metadata": {},
   "outputs": [
    {
     "name": "stdout",
     "output_type": "stream",
     "text": [
      "Welcome to AI Learning\n",
      "Vinoth\n"
     ]
    }
   ],
   "source": [
    "print(\"Welcome to AI Learning\");print(\"Vinoth\")"
   ]
  },
  {
   "cell_type": "code",
   "execution_count": null,
   "id": "b7854b54",
   "metadata": {},
   "outputs": [],
   "source": [
    "\n"
   ]
  },
  {
   "cell_type": "code",
   "execution_count": null,
   "id": "2b771ac0",
   "metadata": {},
   "outputs": [],
   "source": []
  },
  {
   "cell_type": "code",
   "execution_count": null,
   "id": "0fdd3864",
   "metadata": {},
   "outputs": [],
   "source": []
  },
  {
   "cell_type": "code",
   "execution_count": null,
   "id": "17e3ec01",
   "metadata": {},
   "outputs": [],
   "source": []
  },
  {
   "cell_type": "code",
   "execution_count": 17,
   "id": "421ff143",
   "metadata": {},
   "outputs": [
    {
     "name": "stdout",
     "output_type": "stream",
     "text": [
      "vino\n"
     ]
    }
   ],
   "source": [
    "print(\"v\"\"i\"\"n\"\"o\")"
   ]
  },
  {
   "cell_type": "code",
   "execution_count": 18,
   "id": "e7cb703a",
   "metadata": {},
   "outputs": [
    {
     "name": "stdout",
     "output_type": "stream",
     "text": [
      "'wecome'\n"
     ]
    }
   ],
   "source": [
    "print(\"'wecome'\")"
   ]
  },
  {
   "cell_type": "code",
   "execution_count": null,
   "id": "ba797d8c",
   "metadata": {},
   "outputs": [],
   "source": []
  }
 ],
 "metadata": {
  "kernelspec": {
   "display_name": "Python 3 (ipykernel)",
   "language": "python",
   "name": "python3"
  },
  "language_info": {
   "codemirror_mode": {
    "name": "ipython",
    "version": 3
   },
   "file_extension": ".py",
   "mimetype": "text/x-python",
   "name": "python",
   "nbconvert_exporter": "python",
   "pygments_lexer": "ipython3",
   "version": "3.11.5"
  }
 },
 "nbformat": 4,
 "nbformat_minor": 5
}
