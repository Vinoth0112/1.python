{
 "cells": [
  {
   "cell_type": "code",
   "execution_count": 1,
   "id": "f24c800b",
   "metadata": {},
   "outputs": [
    {
     "ename": "NameError",
     "evalue": "name 'Num' is not defined",
     "output_type": "error",
     "traceback": [
      "\u001b[1;31m---------------------------------------------------------------------------\u001b[0m",
      "\u001b[1;31mNameError\u001b[0m                                 Traceback (most recent call last)",
      "Cell \u001b[1;32mIn[1], line 3\u001b[0m\n\u001b[0;32m      1\u001b[0m Num1\u001b[38;5;241m=\u001b[39m\u001b[38;5;241m40\u001b[39m\n\u001b[0;32m      2\u001b[0m Num2\u001b[38;5;241m=\u001b[39m\u001b[38;5;241m20\u001b[39m\n\u001b[1;32m----> 3\u001b[0m Addition\u001b[38;5;241m=\u001b[39mNum\u001b[38;5;241m+\u001b[39mNum2\n",
      "\u001b[1;31mNameError\u001b[0m: name 'Num' is not defined"
     ]
    }
   ],
   "source": [
    "Num1=40\n",
    "Num2=20\n",
    "Addition=Num+Num2\n"
   ]
  },
  {
   "cell_type": "code",
   "execution_count": 2,
   "id": "c69edfc3",
   "metadata": {},
   "outputs": [],
   "source": [
    "Num1=40\n",
    "Num2=20\n",
    "Addition=Num1+Num2\n"
   ]
  },
  {
   "cell_type": "code",
   "execution_count": 3,
   "id": "b3570d8f",
   "metadata": {},
   "outputs": [
    {
     "ename": "NameError",
     "evalue": "name 'num2' is not defined",
     "output_type": "error",
     "traceback": [
      "\u001b[1;31m---------------------------------------------------------------------------\u001b[0m",
      "\u001b[1;31mNameError\u001b[0m                                 Traceback (most recent call last)",
      "Cell \u001b[1;32mIn[3], line 6\u001b[0m\n\u001b[0;32m      4\u001b[0m Substraction\u001b[38;5;241m=\u001b[39mNum1\u001b[38;5;241m-\u001b[39mNum2\n\u001b[0;32m      5\u001b[0m Division\u001b[38;5;241m=\u001b[39mNum1\u001b[38;5;241m+\u001b[39mNum2\n\u001b[1;32m----> 6\u001b[0m Multiplication \u001b[38;5;241m=\u001b[39m Num1\u001b[38;5;241m*\u001b[39mnum2\n",
      "\u001b[1;31mNameError\u001b[0m: name 'num2' is not defined"
     ]
    }
   ],
   "source": [
    "Num1=40\n",
    "Num2=20\n",
    "Addition=Num1+Num2\n",
    "Substraction=Num1-Num2\n",
    "Division=Num1+Num2\n",
    "Multiplication = Num1*num2\n",
    "\n",
    "\n"
   ]
  },
  {
   "cell_type": "code",
   "execution_count": 4,
   "id": "1e60e980",
   "metadata": {},
   "outputs": [],
   "source": [
    "Num1=40\n",
    "Num2=20\n",
    "Addition=Num1+Num2\n",
    "Substraction=Num1-Num2\n",
    "Division=Num1+Num2\n",
    "Multiplication = Num1*Num2"
   ]
  },
  {
   "cell_type": "code",
   "execution_count": 5,
   "id": "4b1766ff",
   "metadata": {},
   "outputs": [
    {
     "ename": "NameError",
     "evalue": "name 'Print' is not defined",
     "output_type": "error",
     "traceback": [
      "\u001b[1;31m---------------------------------------------------------------------------\u001b[0m",
      "\u001b[1;31mNameError\u001b[0m                                 Traceback (most recent call last)",
      "Cell \u001b[1;32mIn[5], line 1\u001b[0m\n\u001b[1;32m----> 1\u001b[0m Print(\u001b[38;5;124m\"\u001b[39m\u001b[38;5;124mAddition\u001b[39m\u001b[38;5;124m\"\u001b[39m)\n",
      "\u001b[1;31mNameError\u001b[0m: name 'Print' is not defined"
     ]
    }
   ],
   "source": [
    "Print(\"Addition\")"
   ]
  },
  {
   "cell_type": "code",
   "execution_count": 6,
   "id": "4ad0b35f",
   "metadata": {},
   "outputs": [
    {
     "name": "stdout",
     "output_type": "stream",
     "text": [
      "Addition\n"
     ]
    }
   ],
   "source": [
    "Num1=40\n",
    "Num2=20\n",
    "Addition=Num1+Num2\n",
    "Substraction=Num1-Num2\n",
    "Division=Num1+Num2\n",
    "Multiplication = Num1*Num2\n",
    "print(\"Addition\")"
   ]
  },
  {
   "cell_type": "code",
   "execution_count": 7,
   "id": "9d7a8ae9",
   "metadata": {},
   "outputs": [
    {
     "ename": "SyntaxError",
     "evalue": "invalid syntax. Perhaps you forgot a comma? (2834283483.py, line 7)",
     "output_type": "error",
     "traceback": [
      "\u001b[1;36m  Cell \u001b[1;32mIn[7], line 7\u001b[1;36m\u001b[0m\n\u001b[1;33m    print(\"Addition = \"Addition)\u001b[0m\n\u001b[1;37m          ^\u001b[0m\n\u001b[1;31mSyntaxError\u001b[0m\u001b[1;31m:\u001b[0m invalid syntax. Perhaps you forgot a comma?\n"
     ]
    }
   ],
   "source": [
    "Num1=40\n",
    "Num2=20\n",
    "Addition=Num1+Num2\n",
    "Substraction=Num1-Num2\n",
    "Division=Num1+Num2\n",
    "Multiplication = Num1*Num2\n",
    "print(\"Addition = \"Addition)"
   ]
  },
  {
   "cell_type": "code",
   "execution_count": 8,
   "id": "52e1c2a9",
   "metadata": {},
   "outputs": [
    {
     "name": "stdout",
     "output_type": "stream",
     "text": [
      "Addition =  60\n"
     ]
    }
   ],
   "source": [
    "Num1=40\n",
    "Num2=20\n",
    "Addition=Num1+Num2\n",
    "Substraction=Num1-Num2\n",
    "Division=Num1+Num2\n",
    "Multiplication = Num1*Num2\n",
    "print(\"Addition = \", Addition)"
   ]
  },
  {
   "cell_type": "code",
   "execution_count": 9,
   "id": "3327f612",
   "metadata": {},
   "outputs": [
    {
     "name": "stdout",
     "output_type": "stream",
     "text": [
      "Addition =  60\n"
     ]
    },
    {
     "ename": "NameError",
     "evalue": "name 'Subtraction' is not defined",
     "output_type": "error",
     "traceback": [
      "\u001b[1;31m---------------------------------------------------------------------------\u001b[0m",
      "\u001b[1;31mNameError\u001b[0m                                 Traceback (most recent call last)",
      "Cell \u001b[1;32mIn[9], line 8\u001b[0m\n\u001b[0;32m      6\u001b[0m Multiplication \u001b[38;5;241m=\u001b[39m Num1\u001b[38;5;241m*\u001b[39mNum2\n\u001b[0;32m      7\u001b[0m \u001b[38;5;28mprint\u001b[39m(\u001b[38;5;124m\"\u001b[39m\u001b[38;5;124mAddition = \u001b[39m\u001b[38;5;124m\"\u001b[39m, Addition)\n\u001b[1;32m----> 8\u001b[0m \u001b[38;5;28mprint\u001b[39m(\u001b[38;5;124m\"\u001b[39m\u001b[38;5;124mSubstraction =\u001b[39m\u001b[38;5;124m\"\u001b[39m, Subtraction)\n\u001b[0;32m      9\u001b[0m \u001b[38;5;28mprint\u001b[39m(\u001b[38;5;124m\"\u001b[39m\u001b[38;5;124mDivision =\u001b[39m\u001b[38;5;124m\"\u001b[39m, Division)\n\u001b[0;32m     10\u001b[0m \u001b[38;5;28mprint\u001b[39m(\u001b[38;5;124m\"\u001b[39m\u001b[38;5;124mMultipication =\u001b[39m\u001b[38;5;124m\"\u001b[39m, Multiplication)\n",
      "\u001b[1;31mNameError\u001b[0m: name 'Subtraction' is not defined"
     ]
    }
   ],
   "source": [
    "Num1=40\n",
    "Num2=20\n",
    "Addition=Num1+Num2\n",
    "Aubtraction=Num1-Num2\n",
    "Division=Num1+Num2\n",
    "Multiplication = Num1*Num2\n",
    "print(\"Addition = \", Addition)\n",
    "print(\"Substraction =\", Subtraction)\n",
    "print(\"Division =\", Division)\n",
    "print(\"Multipication =\", Multiplication)"
   ]
  },
  {
   "cell_type": "code",
   "execution_count": 10,
   "id": "ba8916ab",
   "metadata": {},
   "outputs": [
    {
     "name": "stdout",
     "output_type": "stream",
     "text": [
      "Addition =  60\n"
     ]
    },
    {
     "ename": "NameError",
     "evalue": "name 'Subtraction' is not defined",
     "output_type": "error",
     "traceback": [
      "\u001b[1;31m---------------------------------------------------------------------------\u001b[0m",
      "\u001b[1;31mNameError\u001b[0m                                 Traceback (most recent call last)",
      "Cell \u001b[1;32mIn[10], line 8\u001b[0m\n\u001b[0;32m      6\u001b[0m Multiplication \u001b[38;5;241m=\u001b[39m Num1\u001b[38;5;241m*\u001b[39mNum2\n\u001b[0;32m      7\u001b[0m \u001b[38;5;28mprint\u001b[39m(\u001b[38;5;124m\"\u001b[39m\u001b[38;5;124mAddition = \u001b[39m\u001b[38;5;124m\"\u001b[39m, Addition)\n\u001b[1;32m----> 8\u001b[0m \u001b[38;5;28mprint\u001b[39m(\u001b[38;5;124m\"\u001b[39m\u001b[38;5;124mSubtraction =\u001b[39m\u001b[38;5;124m\"\u001b[39m, Subtraction)\n\u001b[0;32m      9\u001b[0m \u001b[38;5;28mprint\u001b[39m(\u001b[38;5;124m\"\u001b[39m\u001b[38;5;124mDivision =\u001b[39m\u001b[38;5;124m\"\u001b[39m, Division)\n\u001b[0;32m     10\u001b[0m \u001b[38;5;28mprint\u001b[39m(\u001b[38;5;124m\"\u001b[39m\u001b[38;5;124mMultipication =\u001b[39m\u001b[38;5;124m\"\u001b[39m, Multiplication)\n",
      "\u001b[1;31mNameError\u001b[0m: name 'Subtraction' is not defined"
     ]
    }
   ],
   "source": [
    "Num1=40\n",
    "Num2=20\n",
    "Addition=Num1+Num2\n",
    "Aubtraction=Num1-Num2\n",
    "Division=Num1+Num2\n",
    "Multiplication = Num1*Num2\n",
    "print(\"Addition = \", Addition)\n",
    "print(\"Subtraction =\", Subtraction)\n",
    "print(\"Division =\", Division)\n",
    "print(\"Multipication =\", Multiplication)"
   ]
  },
  {
   "cell_type": "code",
   "execution_count": 11,
   "id": "1b7fcde3",
   "metadata": {},
   "outputs": [
    {
     "name": "stdout",
     "output_type": "stream",
     "text": [
      "Addition =  60\n",
      "Subtraction = 20\n",
      "Division = 60\n",
      "Multipication = 800\n"
     ]
    }
   ],
   "source": [
    "Num1=40\n",
    "Num2=20\n",
    "Addition=Num1+Num2\n",
    "Subtraction=Num1-Num2\n",
    "Division=Num1+Num2\n",
    "Multiplication = Num1*Num2\n",
    "print(\"Addition = \", Addition)\n",
    "print(\"Subtraction =\", Subtraction)\n",
    "print(\"Division =\", Division)\n",
    "print(\"Multipication =\", Multiplication)"
   ]
  },
  {
   "cell_type": "code",
   "execution_count": 12,
   "id": "99921c4e",
   "metadata": {},
   "outputs": [
    {
     "name": "stdout",
     "output_type": "stream",
     "text": [
      "Addition =  60\n",
      "Substraction = 20\n",
      "Division = 2.0\n",
      "Multipication = 800\n"
     ]
    }
   ],
   "source": [
    "Num1=40\n",
    "Num2=20\n",
    "Addition=Num1+Num2\n",
    "Aubtraction=Num1-Num2\n",
    "Division=Num1/Num2\n",
    "Multiplication = Num1*Num2\n",
    "print(\"Addition = \", Addition)\n",
    "print(\"Substraction =\", Subtraction)\n",
    "print(\"Division =\", Division)\n",
    "print(\"Multipication =\", Multiplication)"
   ]
  },
  {
   "cell_type": "code",
   "execution_count": 18,
   "id": "a2ce5608",
   "metadata": {},
   "outputs": [
    {
     "name": "stdout",
     "output_type": "stream",
     "text": [
      "Enter the number:45\n"
     ]
    }
   ],
   "source": [
    "Num1=input('Enter the number:')"
   ]
  },
  {
   "cell_type": "code",
   "execution_count": 14,
   "id": "c0799cbb",
   "metadata": {},
   "outputs": [
    {
     "ename": "NameError",
     "evalue": "name 'Input' is not defined",
     "output_type": "error",
     "traceback": [
      "\u001b[1;31m---------------------------------------------------------------------------\u001b[0m",
      "\u001b[1;31mNameError\u001b[0m                                 Traceback (most recent call last)",
      "Cell \u001b[1;32mIn[14], line 1\u001b[0m\n\u001b[1;32m----> 1\u001b[0m Num2\u001b[38;5;241m=\u001b[39mInput(\u001b[38;5;124m'\u001b[39m\u001b[38;5;124mEnter the number:\u001b[39m\u001b[38;5;124m'\u001b[39m)\n",
      "\u001b[1;31mNameError\u001b[0m: name 'Input' is not defined"
     ]
    }
   ],
   "source": [
    "Num2=Input('Enter the number:')"
   ]
  },
  {
   "cell_type": "code",
   "execution_count": 19,
   "id": "b2648381",
   "metadata": {},
   "outputs": [
    {
     "name": "stdout",
     "output_type": "stream",
     "text": [
      "Enter the number:65\n"
     ]
    }
   ],
   "source": [
    "Num2=input('Enter the number:')"
   ]
  },
  {
   "cell_type": "code",
   "execution_count": 16,
   "id": "4004cb0f",
   "metadata": {},
   "outputs": [
    {
     "ename": "NameError",
     "evalue": "name 'add' is not defined",
     "output_type": "error",
     "traceback": [
      "\u001b[1;31m---------------------------------------------------------------------------\u001b[0m",
      "\u001b[1;31mNameError\u001b[0m                                 Traceback (most recent call last)",
      "Cell \u001b[1;32mIn[16], line 1\u001b[0m\n\u001b[1;32m----> 1\u001b[0m \u001b[38;5;28mprint\u001b[39m(add)\n",
      "\u001b[1;31mNameError\u001b[0m: name 'add' is not defined"
     ]
    }
   ],
   "source": [
    "print(add)"
   ]
  },
  {
   "cell_type": "code",
   "execution_count": 21,
   "id": "45998233",
   "metadata": {},
   "outputs": [
    {
     "name": "stdout",
     "output_type": "stream",
     "text": [
      "60\n"
     ]
    }
   ],
   "source": [
    "print(Addition)"
   ]
  },
  {
   "cell_type": "code",
   "execution_count": 22,
   "id": "cf836259",
   "metadata": {},
   "outputs": [],
   "source": [
    "add=Num1+Num2"
   ]
  },
  {
   "cell_type": "code",
   "execution_count": 23,
   "id": "d22caacb",
   "metadata": {},
   "outputs": [
    {
     "name": "stdout",
     "output_type": "stream",
     "text": [
      "60\n"
     ]
    }
   ],
   "source": [
    "print(Addition)"
   ]
  },
  {
   "cell_type": "code",
   "execution_count": 24,
   "id": "35bf7d24",
   "metadata": {},
   "outputs": [
    {
     "ename": "NameError",
     "evalue": "name 'Add' is not defined",
     "output_type": "error",
     "traceback": [
      "\u001b[1;31m---------------------------------------------------------------------------\u001b[0m",
      "\u001b[1;31mNameError\u001b[0m                                 Traceback (most recent call last)",
      "Cell \u001b[1;32mIn[24], line 1\u001b[0m\n\u001b[1;32m----> 1\u001b[0m \u001b[38;5;28mprint\u001b[39m(Add)\n",
      "\u001b[1;31mNameError\u001b[0m: name 'Add' is not defined"
     ]
    }
   ],
   "source": [
    "print(Add)"
   ]
  },
  {
   "cell_type": "code",
   "execution_count": 25,
   "id": "559cb002",
   "metadata": {},
   "outputs": [
    {
     "name": "stdout",
     "output_type": "stream",
     "text": [
      "4565\n"
     ]
    }
   ],
   "source": [
    "print(add)"
   ]
  },
  {
   "cell_type": "code",
   "execution_count": 26,
   "id": "08bf5a93",
   "metadata": {},
   "outputs": [
    {
     "name": "stdout",
     "output_type": "stream",
     "text": [
      "Enter the number:10\n",
      "Enter the number:35\n"
     ]
    },
    {
     "ename": "NameError",
     "evalue": "name 'Add' is not defined",
     "output_type": "error",
     "traceback": [
      "\u001b[1;31m---------------------------------------------------------------------------\u001b[0m",
      "\u001b[1;31mNameError\u001b[0m                                 Traceback (most recent call last)",
      "Cell \u001b[1;32mIn[26], line 4\u001b[0m\n\u001b[0;32m      2\u001b[0m Num2\u001b[38;5;241m=\u001b[39m\u001b[38;5;28minput\u001b[39m(\u001b[38;5;124m'\u001b[39m\u001b[38;5;124mEnter the number:\u001b[39m\u001b[38;5;124m'\u001b[39m)\n\u001b[0;32m      3\u001b[0m add\u001b[38;5;241m=\u001b[39mNum1\u001b[38;5;241m+\u001b[39mNum2\n\u001b[1;32m----> 4\u001b[0m \u001b[38;5;28mprint\u001b[39m(Add)\n",
      "\u001b[1;31mNameError\u001b[0m: name 'Add' is not defined"
     ]
    }
   ],
   "source": [
    "Num1=input('Enter the number:')\n",
    "Num2=input('Enter the number:')\n",
    "add=Num1+Num2\n",
    "print(Add)\n"
   ]
  },
  {
   "cell_type": "code",
   "execution_count": 27,
   "id": "e0e32446",
   "metadata": {},
   "outputs": [
    {
     "name": "stdout",
     "output_type": "stream",
     "text": [
      "Enter the number:25\n",
      "Enter the number:35\n",
      "2535\n"
     ]
    }
   ],
   "source": [
    "Num1=input('Enter the number:')\n",
    "Num2=input('Enter the number:')\n",
    "add=Num1+Num2\n",
    "print(add)"
   ]
  },
  {
   "cell_type": "code",
   "execution_count": 28,
   "id": "334a683c",
   "metadata": {},
   "outputs": [
    {
     "name": "stdout",
     "output_type": "stream",
     "text": [
      "Enter the number:25\n"
     ]
    },
    {
     "ename": "NameError",
     "evalue": "name 'Int' is not defined",
     "output_type": "error",
     "traceback": [
      "\u001b[1;31m---------------------------------------------------------------------------\u001b[0m",
      "\u001b[1;31mNameError\u001b[0m                                 Traceback (most recent call last)",
      "Cell \u001b[1;32mIn[28], line 2\u001b[0m\n\u001b[0;32m      1\u001b[0m Num1\u001b[38;5;241m=\u001b[39m\u001b[38;5;28mint\u001b[39m(\u001b[38;5;28minput\u001b[39m(\u001b[38;5;124m'\u001b[39m\u001b[38;5;124mEnter the number:\u001b[39m\u001b[38;5;124m'\u001b[39m))\n\u001b[1;32m----> 2\u001b[0m Num2\u001b[38;5;241m=\u001b[39mInt(\u001b[38;5;28minput\u001b[39m(\u001b[38;5;124m'\u001b[39m\u001b[38;5;124mEnter the number:\u001b[39m\u001b[38;5;124m'\u001b[39m))\n\u001b[0;32m      3\u001b[0m add\u001b[38;5;241m=\u001b[39mNum1\u001b[38;5;241m+\u001b[39mNum2\n\u001b[0;32m      4\u001b[0m \u001b[38;5;28mprint\u001b[39m(add)\n",
      "\u001b[1;31mNameError\u001b[0m: name 'Int' is not defined"
     ]
    }
   ],
   "source": [
    "Num1=int(input('Enter the number:'))\n",
    "Num2=Int(input('Enter the number:'))\n",
    "add=Num1+Num2\n",
    "print(add)"
   ]
  },
  {
   "cell_type": "markdown",
   "id": "30bce0f0",
   "metadata": {},
   "source": [
    "Num1=int(input('Enter the number:'))\n",
    "Num2=int(input('Enter the number:'))\n",
    "add=Num1+Num2\n",
    "print(add)"
   ]
  },
  {
   "cell_type": "code",
   "execution_count": 30,
   "id": "b2c46be0",
   "metadata": {},
   "outputs": [
    {
     "name": "stdout",
     "output_type": "stream",
     "text": [
      "Enter the number:30\n",
      "Enter the number:45\n",
      "75\n"
     ]
    }
   ],
   "source": [
    "Num1=int(input('Enter the number:'))\n",
    "Num2=nt(input('Enter the number:'))\n",
    "add=Num1+Num2\n",
    "print(add)"
   ]
  },
  {
   "cell_type": "code",
   "execution_count": 31,
   "id": "81bf7b51",
   "metadata": {},
   "outputs": [
    {
     "ename": "SyntaxError",
     "evalue": "invalid syntax. Perhaps you forgot a comma? (4162991409.py, line 4)",
     "output_type": "error",
     "traceback": [
      "\u001b[1;36m  Cell \u001b[1;32mIn[31], line 4\u001b[1;36m\u001b[0m\n\u001b[1;33m    print(\"add =\"add)\u001b[0m\n\u001b[1;37m          ^\u001b[0m\n\u001b[1;31mSyntaxError\u001b[0m\u001b[1;31m:\u001b[0m invalid syntax. Perhaps you forgot a comma?\n"
     ]
    }
   ],
   "source": [
    "Num1=int(input('Enter the number:'))\n",
    "Num2=nt(input('Enter the number:'))\n",
    "add=Num1+Num2\n",
    "print(\"add =\"add)"
   ]
  },
  {
   "cell_type": "code",
   "execution_count": 32,
   "id": "5bf444d3",
   "metadata": {},
   "outputs": [
    {
     "name": "stdout",
     "output_type": "stream",
     "text": [
      "Enter the number:25\n"
     ]
    },
    {
     "ename": "NameError",
     "evalue": "name 'nt' is not defined",
     "output_type": "error",
     "traceback": [
      "\u001b[1;31m---------------------------------------------------------------------------\u001b[0m",
      "\u001b[1;31mNameError\u001b[0m                                 Traceback (most recent call last)",
      "Cell \u001b[1;32mIn[32], line 2\u001b[0m\n\u001b[0;32m      1\u001b[0m Num1\u001b[38;5;241m=\u001b[39m\u001b[38;5;28mint\u001b[39m(\u001b[38;5;28minput\u001b[39m(\u001b[38;5;124m'\u001b[39m\u001b[38;5;124mEnter the number:\u001b[39m\u001b[38;5;124m'\u001b[39m))\n\u001b[1;32m----> 2\u001b[0m Num2\u001b[38;5;241m=\u001b[39mnt(\u001b[38;5;28minput\u001b[39m(\u001b[38;5;124m'\u001b[39m\u001b[38;5;124mEnter the number:\u001b[39m\u001b[38;5;124m'\u001b[39m))\n\u001b[0;32m      3\u001b[0m add\u001b[38;5;241m=\u001b[39mNum1\u001b[38;5;241m+\u001b[39mNum2\n\u001b[0;32m      4\u001b[0m \u001b[38;5;28mprint\u001b[39m(\u001b[38;5;124m\"\u001b[39m\u001b[38;5;124madd =\u001b[39m\u001b[38;5;124m\"\u001b[39m,add)\n",
      "\u001b[1;31mNameError\u001b[0m: name 'nt' is not defined"
     ]
    }
   ],
   "source": [
    "Num1=int(input('Enter the number:'))\n",
    "Num2=nt(input('Enter the number:'))\n",
    "add=Num1+Num2\n",
    "print(\"add =\",add)"
   ]
  },
  {
   "cell_type": "code",
   "execution_count": 33,
   "id": "ff04ae5f",
   "metadata": {},
   "outputs": [
    {
     "name": "stdout",
     "output_type": "stream",
     "text": [
      "Enter the number:50\n",
      "Enter the number:50\n",
      "add = 100\n"
     ]
    }
   ],
   "source": [
    "Num1=int(input('Enter the number:'))\n",
    "Num2=int(input('Enter the number:'))\n",
    "add=Num1+Num2\n",
    "print(\"add =\",add)"
   ]
  },
  {
   "cell_type": "code",
   "execution_count": 35,
   "id": "198945d4",
   "metadata": {},
   "outputs": [
    {
     "name": "stdout",
     "output_type": "stream",
     "text": [
      "Enter the number:4\n",
      "Enter the number:2\n",
      "add = 6\n",
      "sum = 2\n",
      "div = 2.0\n",
      "mul = 8\n"
     ]
    }
   ],
   "source": [
    "Num1=int(input('Enter the number:'))\n",
    "Num2=int(input('Enter the number:'))\n",
    "add=Num1+Num2\n",
    "sub=Num1-Num2\n",
    "div=Num1/Num2\n",
    "mul=Num1*Num2\n",
    "print(\"add =\",add)\n",
    "print(\"sum =\",sub)\n",
    "print(\"div =\",div)\n",
    "print(\"mul =\",mul)"
   ]
  },
  {
   "cell_type": "code",
   "execution_count": 37,
   "id": "7bb5705c",
   "metadata": {},
   "outputs": [
    {
     "name": "stdout",
     "output_type": "stream",
     "text": [
      "Enter the number:10\n"
     ]
    }
   ],
   "source": [
    "Num1=int(input(\"Enter the number:\"))\n",
    "               "
   ]
  },
  {
   "cell_type": "code",
   "execution_count": null,
   "id": "c9e8c739",
   "metadata": {},
   "outputs": [],
   "source": []
  }
 ],
 "metadata": {
  "kernelspec": {
   "display_name": "Python 3 (ipykernel)",
   "language": "python",
   "name": "python3"
  },
  "language_info": {
   "codemirror_mode": {
    "name": "ipython",
    "version": 3
   },
   "file_extension": ".py",
   "mimetype": "text/x-python",
   "name": "python",
   "nbconvert_exporter": "python",
   "pygments_lexer": "ipython3",
   "version": "3.11.5"
  }
 },
 "nbformat": 4,
 "nbformat_minor": 5
}
