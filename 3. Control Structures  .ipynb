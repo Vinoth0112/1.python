{
 "cells": [
  {
   "cell_type": "code",
   "execution_count": 1,
   "id": "92d26d7c",
   "metadata": {},
   "outputs": [
    {
     "ename": "SyntaxError",
     "evalue": "expected ':' (2119636026.py, line 1)",
     "output_type": "error",
     "traceback": [
      "\u001b[1;36m  Cell \u001b[1;32mIn[1], line 1\u001b[1;36m\u001b[0m\n\u001b[1;33m    if(age==18)\u001b[0m\n\u001b[1;37m               ^\u001b[0m\n\u001b[1;31mSyntaxError\u001b[0m\u001b[1;31m:\u001b[0m expected ':'\n"
     ]
    }
   ],
   "source": [
    "if(age==18)\n",
    "print(\"Adult\")"
   ]
  },
  {
   "cell_type": "code",
   "execution_count": null,
   "id": "45d78d7a",
   "metadata": {},
   "outputs": [],
   "source": [
    "if(age==18):\n",
    "print(\"Adult\")"
   ]
  },
  {
   "cell_type": "code",
   "execution_count": 2,
   "id": "a244d2d1",
   "metadata": {},
   "outputs": [
    {
     "ename": "NameError",
     "evalue": "name 'age' is not defined",
     "output_type": "error",
     "traceback": [
      "\u001b[1;31m---------------------------------------------------------------------------\u001b[0m",
      "\u001b[1;31mNameError\u001b[0m                                 Traceback (most recent call last)",
      "Cell \u001b[1;32mIn[2], line 1\u001b[0m\n\u001b[1;32m----> 1\u001b[0m \u001b[38;5;28;01mif\u001b[39;00m(age\u001b[38;5;241m==\u001b[39m\u001b[38;5;241m18\u001b[39m):\n\u001b[0;32m      2\u001b[0m     \u001b[38;5;28mprint\u001b[39m(\u001b[38;5;124m\"\u001b[39m\u001b[38;5;124mAdult\u001b[39m\u001b[38;5;124m\"\u001b[39m)\n",
      "\u001b[1;31mNameError\u001b[0m: name 'age' is not defined"
     ]
    }
   ],
   "source": [
    "if(age==18):\n",
    "    print(\"Adult\")"
   ]
  },
  {
   "cell_type": "code",
   "execution_count": null,
   "id": "18e0049c",
   "metadata": {},
   "outputs": [],
   "source": [
    "age=int(input(\"Enter the Age \"))\n",
    "if(age==18):\n",
    "    print(\"Adult\")"
   ]
  },
  {
   "cell_type": "code",
   "execution_count": 38,
   "id": "d3ddba81",
   "metadata": {},
   "outputs": [
    {
     "name": "stdout",
     "output_type": "stream",
     "text": [
      "Enter the Age 12\n"
     ]
    }
   ],
   "source": [
    "age=int(input(\"Enter the Age \"))\n",
    "if(age==18):\n",
    "    print(\"Adult\")"
   ]
  },
  {
   "cell_type": "code",
   "execution_count": null,
   "id": "6ae30573",
   "metadata": {},
   "outputs": [],
   "source": [
    "#if-else"
   ]
  },
  {
   "cell_type": "code",
   "execution_count": null,
   "id": "157fc53d",
   "metadata": {},
   "outputs": [],
   "source": [
    "age=int(input(\"Enter the age \"))\n",
    "if(age<18):\n",
    "    print(\"Children\")\n",
    "else:\n",
    "    print(\"Adult\")"
   ]
  },
  {
   "cell_type": "code",
   "execution_count": null,
   "id": "de3b0e45",
   "metadata": {},
   "outputs": [],
   "source": [
    "age=int(input(\"Enter the age:- \"))\n",
    "if(age<18):\n",
    "    print(\"Children\")\n",
    "else:\n",
    "    print(\"Adult\")\n",
    "    "
   ]
  },
  {
   "cell_type": "code",
   "execution_count": null,
   "id": "ba4c5757",
   "metadata": {},
   "outputs": [],
   "source": [
    "#if-elief"
   ]
  },
  {
   "cell_type": "code",
   "execution_count": null,
   "id": "52fac3b7",
   "metadata": {},
   "outputs": [],
   "source": [
    "age=int(input(\"Enter the age:- \"))\n",
    "if(age<18):\n",
    "    print(\"Chindlren\")\n",
    "elif(age<35):\n",
    "    print(\"Adult\")\n",
    "elif(age<=59):\n",
    "    print(\"Citizen\")\n",
    "else:\n",
    "    print(\"Senior Citizen\")\n",
    "    "
   ]
  },
  {
   "cell_type": "code",
   "execution_count": 13,
   "id": "c8a1171e",
   "metadata": {},
   "outputs": [],
   "source": [
    "lists=[45,83,22,57,12,15,32]"
   ]
  },
  {
   "cell_type": "code",
   "execution_count": 14,
   "id": "8d5b3374",
   "metadata": {},
   "outputs": [
    {
     "name": "stdout",
     "output_type": "stream",
     "text": [
      "45\n",
      "83\n",
      "22\n",
      "57\n",
      "12\n",
      "15\n",
      "32\n"
     ]
    }
   ],
   "source": [
    "lists=[45,83,22,57,12,15,32]\n",
    "for temp in lists:\n",
    "    print(temp)"
   ]
  },
  {
   "cell_type": "code",
   "execution_count": 26,
   "id": "5032bd55",
   "metadata": {},
   "outputs": [
    {
     "name": "stdout",
     "output_type": "stream",
     "text": [
      "45 Citizen\n",
      "83 Senior Citizen\n",
      "22 Adult\n",
      "57 Citizen\n",
      "12 Chindlren\n",
      "15 Chindlren\n",
      "32 Adult\n"
     ]
    }
   ],
   "source": [
    "lists=[45,83,22,57,12,15,32]\n",
    "for age in lists:\n",
    "    if(age<18):\n",
    "        print( age,\"Chindlren\")\n",
    "    elif(age<35):\n",
    "        print(age,\"Adult\")\n",
    "    elif(age<=59):\n",
    "        print(age,\"Citizen\")\n",
    "    else:\n",
    "        print(age,\"Senior Citizen\")\n",
    "    \n",
    "\n",
    "    "
   ]
  },
  {
   "cell_type": "code",
   "execution_count": 29,
   "id": "aa818651",
   "metadata": {},
   "outputs": [
    {
     "name": "stdout",
     "output_type": "stream",
     "text": [
      "Enter the number2\n",
      "Even Number\n"
     ]
    }
   ],
   "source": [
    "num=int(input(\"Enter the number\"))\n",
    "if((num%2)==0):\n",
    "    print(\"Even Number\")\n",
    "else:\n",
    "        print(\"Odd Number\")"
   ]
  },
  {
   "cell_type": "code",
   "execution_count": 31,
   "id": "597d956e",
   "metadata": {},
   "outputs": [
    {
     "name": "stdout",
     "output_type": "stream",
     "text": [
      "\n"
     ]
    }
   ],
   "source": [
    "if(num%2==0):\n",
    "    print()"
   ]
  },
  {
   "cell_type": "code",
   "execution_count": 33,
   "id": "a14df604",
   "metadata": {},
   "outputs": [
    {
     "name": "stdout",
     "output_type": "stream",
     "text": [
      "0\n",
      "1\n",
      "2\n",
      "3\n",
      "4\n",
      "5\n",
      "6\n",
      "7\n",
      "8\n",
      "9\n"
     ]
    }
   ],
   "source": [
    "for num in range(0,10):\n",
    "    print(num)"
   ]
  },
  {
   "cell_type": "code",
   "execution_count": 37,
   "id": "2209af59",
   "metadata": {},
   "outputs": [
    {
     "name": "stdout",
     "output_type": "stream",
     "text": [
      "0\n",
      "5\n",
      "10\n",
      "15\n",
      "20\n",
      "25\n"
     ]
    }
   ],
   "source": [
    "for num in range(0,30,5):\n",
    "    print(num)"
   ]
  },
  {
   "cell_type": "code",
   "execution_count": null,
   "id": "c198eabb",
   "metadata": {},
   "outputs": [],
   "source": []
  }
 ],
 "metadata": {
  "kernelspec": {
   "display_name": "Python 3 (ipykernel)",
   "language": "python",
   "name": "python3"
  },
  "language_info": {
   "codemirror_mode": {
    "name": "ipython",
    "version": 3
   },
   "file_extension": ".py",
   "mimetype": "text/x-python",
   "name": "python",
   "nbconvert_exporter": "python",
   "pygments_lexer": "ipython3",
   "version": "3.11.5"
  }
 },
 "nbformat": 4,
 "nbformat_minor": 5
}
